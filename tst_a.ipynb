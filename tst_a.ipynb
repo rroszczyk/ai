{
  "nbformat": 4,
  "nbformat_minor": 0,
  "metadata": {
    "colab": {
      "provenance": [],
      "authorship_tag": "ABX9TyNI43duQS95nxjZBF+kjiQ7",
      "include_colab_link": true
    },
    "kernelspec": {
      "name": "python3",
      "display_name": "Python 3"
    },
    "language_info": {
      "name": "python"
    }
  },
  "cells": [
    {
      "cell_type": "markdown",
      "metadata": {
        "id": "view-in-github",
        "colab_type": "text"
      },
      "source": [
        "<a href=\"https://colab.research.google.com/github/rroszczyk/ai/blob/main/tst_a.ipynb\" target=\"_parent\"><img src=\"https://colab.research.google.com/assets/colab-badge.svg\" alt=\"Open In Colab\"/></a>"
      ]
    },
    {
      "cell_type": "code",
      "execution_count": 18,
      "metadata": {
        "colab": {
          "base_uri": "https://localhost:8080/"
        },
        "id": "1XXyZTXIltMc",
        "outputId": "548980a3-0cc7-48b6-88a2-b4f235ddbe13"
      },
      "outputs": [
        {
          "output_type": "stream",
          "name": "stdout",
          "text": [
            "Collecting pytest-benchmark\n",
            "  Downloading pytest_benchmark-4.0.0-py3-none-any.whl (43 kB)\n",
            "\u001b[?25l     \u001b[90m━━━━━━━━━━━━━━━━━━━━━━━━━━━━━━━━━━━━━━━━\u001b[0m \u001b[32m0.0/44.0 kB\u001b[0m \u001b[31m?\u001b[0m eta \u001b[36m-:--:--\u001b[0m\r\u001b[2K     \u001b[90m━━━━━━━━━━━━━━━━━━━━━━━━━━━━━━━━━━━━━━━━\u001b[0m \u001b[32m44.0/44.0 kB\u001b[0m \u001b[31m1.2 MB/s\u001b[0m eta \u001b[36m0:00:00\u001b[0m\n",
            "\u001b[?25hRequirement already satisfied: pytest>=3.8 in /usr/local/lib/python3.10/dist-packages (from pytest-benchmark) (7.4.3)\n",
            "Requirement already satisfied: py-cpuinfo in /usr/local/lib/python3.10/dist-packages (from pytest-benchmark) (9.0.0)\n",
            "Requirement already satisfied: iniconfig in /usr/local/lib/python3.10/dist-packages (from pytest>=3.8->pytest-benchmark) (2.0.0)\n",
            "Requirement already satisfied: packaging in /usr/local/lib/python3.10/dist-packages (from pytest>=3.8->pytest-benchmark) (23.2)\n",
            "Requirement already satisfied: pluggy<2.0,>=0.12 in /usr/local/lib/python3.10/dist-packages (from pytest>=3.8->pytest-benchmark) (1.3.0)\n",
            "Requirement already satisfied: exceptiongroup>=1.0.0rc8 in /usr/local/lib/python3.10/dist-packages (from pytest>=3.8->pytest-benchmark) (1.2.0)\n",
            "Requirement already satisfied: tomli>=1.0.0 in /usr/local/lib/python3.10/dist-packages (from pytest>=3.8->pytest-benchmark) (2.0.1)\n",
            "Installing collected packages: pytest-benchmark\n",
            "Successfully installed pytest-benchmark-4.0.0\n"
          ]
        }
      ],
      "source": [
        "!pip install pytest-benchmark"
      ]
    },
    {
      "cell_type": "code",
      "source": [
        "%%writefile test_funkcji.py\n",
        "import random\n",
        "\n",
        "n = 1000\n",
        "m = 1000\n",
        "a = [[0] * m] * n\n",
        "\n",
        "def funcA():\n",
        "  for x in range(0, n):\n",
        "    for y in range(0, m):\n",
        "      a[x][y] = 0\n",
        "\n",
        "def funcB():\n",
        "  for x in range(0, n):\n",
        "    for y in range(0, m):\n",
        "      a[y][x] = 0\n",
        "\n",
        "def funcC():\n",
        "  for x in range(0, n):\n",
        "    for y in range(0, m):\n",
        "      a[random.randrange(n)][random.randrange(m)] = 0\n",
        "\n",
        "def test_func_a(benchmark):\n",
        "    benchmark.pedantic(funcA, iterations=100, rounds=10)\n",
        "\n",
        "def test_func_b(benchmark):\n",
        "    benchmark.pedantic(funcA, iterations=100, rounds=10)\n",
        "\n",
        "def test_func_c(benchmark):\n",
        "    benchmark.pedantic(funcA, iterations=100, rounds=10)"
      ],
      "metadata": {
        "colab": {
          "base_uri": "https://localhost:8080/"
        },
        "id": "pTi8sybalt9o",
        "outputId": "ae6dd0ac-6422-4ab9-ed84-04dbc539a9bc"
      },
      "execution_count": 16,
      "outputs": [
        {
          "output_type": "stream",
          "name": "stdout",
          "text": [
            "Writing test_funkcji.py\n"
          ]
        }
      ]
    },
    {
      "cell_type": "code",
      "source": [
        "!pytest test_funkcji.py"
      ],
      "metadata": {
        "colab": {
          "base_uri": "https://localhost:8080/"
        },
        "id": "ZMDDKbeaoSND",
        "outputId": "204fbc83-8bff-45c6-921a-d6a00c34d837"
      },
      "execution_count": 19,
      "outputs": [
        {
          "output_type": "stream",
          "name": "stdout",
          "text": [
            "\u001b[1m======================================= test session starts ========================================\u001b[0m\n",
            "platform linux -- Python 3.10.12, pytest-7.4.3, pluggy-1.3.0\n",
            "benchmark: 4.0.0 (defaults: timer=time.perf_counter disable_gc=False min_rounds=5 min_time=0.000005 max_time=1.0 calibration_precision=10 warmup=False warmup_iterations=100000)\n",
            "rootdir: /content\n",
            "plugins: benchmark-4.0.0, anyio-3.7.1\n",
            "\u001b[1mcollecting ... \u001b[0m\u001b[1m\rcollected 3 items                                                                                  \u001b[0m\n",
            "\n",
            "test_funkcji.py \u001b[32m.\u001b[0m\u001b[32m.\u001b[0m\u001b[32m.\u001b[0m\u001b[32m                                                                          [100%]\u001b[0m\n",
            "\n",
            "\n",
            "\u001b[33m---------------------------------------------------------------------------------- benchmark: 3 tests ---------------------------------------------------------------------------------\u001b[0m\n",
            "Name (time in ms)         Min                 Max               Mean            StdDev             Median                IQR            Outliers      OPS            Rounds  Iterations\n",
            "\u001b[33m---------------------------------------------------------------------------------------------------------------------------------------------------------------------------------------\u001b[0m\n",
            "test_func_b         \u001b[32m\u001b[1m  67.4715 (1.0)    \u001b[0m\u001b[32m\u001b[1m   85.1958 (1.0)    \u001b[0m\u001b[32m\u001b[1m  76.6636 (1.0)    \u001b[0m\u001b[1m  8.3144 (1.14)   \u001b[0m\u001b[32m\u001b[1m  76.6717 (1.0)    \u001b[0m\u001b[1m  16.3789 (1.28)   \u001b[0m       5;0\u001b[32m\u001b[1m  13.0440 (1.0)    \u001b[0m      10         100\n",
            "test_func_c         \u001b[1m  67.6303 (1.00)   \u001b[0m\u001b[1m   85.8698 (1.01)   \u001b[0m\u001b[1m  78.3256 (1.02)   \u001b[0m\u001b[32m\u001b[1m  7.2871 (1.0)    \u001b[0m\u001b[1m  78.6161 (1.03)   \u001b[0m\u001b[32m\u001b[1m  12.7660 (1.0)    \u001b[0m       3;0\u001b[1m  12.7672 (0.98)   \u001b[0m      10         100\n",
            "test_func_a         \u001b[31m\u001b[1m  78.8406 (1.17)   \u001b[0m\u001b[31m\u001b[1m  102.6473 (1.20)   \u001b[0m\u001b[31m\u001b[1m  92.0389 (1.20)   \u001b[0m\u001b[31m\u001b[1m  8.9721 (1.23)   \u001b[0m\u001b[31m\u001b[1m  96.4339 (1.26)   \u001b[0m\u001b[31m\u001b[1m  17.0671 (1.34)   \u001b[0m       4;0\u001b[31m\u001b[1m  10.8650 (0.83)   \u001b[0m      10         100\n",
            "\u001b[33m---------------------------------------------------------------------------------------------------------------------------------------------------------------------------------------\u001b[0m\n",
            "\n",
            "Legend:\n",
            "  Outliers: 1 Standard Deviation from Mean; 1.5 IQR (InterQuartile Range) from 1st Quartile and 3rd Quartile.\n",
            "  OPS: Operations Per Second, computed as 1 / Mean\n",
            "\u001b[32m================================== \u001b[32m\u001b[1m3 passed\u001b[0m\u001b[32m in 247.28s (0:04:07)\u001b[0m\u001b[32m ===================================\u001b[0m\n"
          ]
        }
      ]
    }
  ]
}